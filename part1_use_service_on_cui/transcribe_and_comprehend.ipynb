{
 "cells": [
  {
   "cell_type": "code",
   "execution_count": 1,
   "metadata": {},
   "outputs": [],
   "source": [
    "import boto3,sagemaker,json\n",
    "from time import sleep"
   ]
  },
  {
   "cell_type": "code",
   "execution_count": 2,
   "metadata": {},
   "outputs": [],
   "source": [
    "# AWS サービス の API を実行するためのクライアントを生成\n",
    "transcribe = boto3.client('transcribe')\n",
    "comprehend = boto3.client('comprehend')\n",
    "s3 = boto3.client('s3')"
   ]
  },
  {
   "cell_type": "code",
   "execution_count": 3,
   "metadata": {},
   "outputs": [],
   "source": [
    "# 音声ファイル (sample.mp3) を s3 にアップロード\n",
    "bucket = sagemaker.session.Session().default_bucket()\n",
    "mp3file = 'sample.mp3'\n",
    "input_key_prefix = 'transcribe/input/'\n",
    "input_key = input_key_prefix+mp3file\n",
    "s3.upload_file(mp3file,bucket,input_key)\n",
    "input_s3uri = 's3://'+bucket+'/' + input_key\n",
    "\n",
    "\n",
    "transcribe_job_name = 'sample'\n",
    "output_key = 'transcribe/output/'+transcribe_job_name + '.json'"
   ]
  },
  {
   "cell_type": "code",
   "execution_count": 4,
   "metadata": {},
   "outputs": [
    {
     "data": {
      "text/plain": [
       "{'TranscriptionJob': {'TranscriptionJobName': 'sample',\n",
       "  'TranscriptionJobStatus': 'IN_PROGRESS',\n",
       "  'LanguageCode': 'ja-JP',\n",
       "  'Media': {'MediaFileUri': 's3://sagemaker-ap-northeast-1-377600838340/transcribe/input/sample.mp3'},\n",
       "  'StartTime': datetime.datetime(2020, 10, 27, 8, 33, 25, 429000, tzinfo=tzlocal()),\n",
       "  'CreationTime': datetime.datetime(2020, 10, 27, 8, 33, 25, 392000, tzinfo=tzlocal())},\n",
       " 'ResponseMetadata': {'RequestId': 'ad664734-1639-4f9c-9664-aebc581f9da0',\n",
       "  'HTTPStatusCode': 200,\n",
       "  'HTTPHeaders': {'content-type': 'application/x-amz-json-1.1',\n",
       "   'date': 'Tue, 27 Oct 2020 08:33:24 GMT',\n",
       "   'x-amzn-requestid': 'ad664734-1639-4f9c-9664-aebc581f9da0',\n",
       "   'content-length': '275',\n",
       "   'connection': 'keep-alive'},\n",
       "  'RetryAttempts': 0}}"
      ]
     },
     "execution_count": 4,
     "metadata": {},
     "output_type": "execute_result"
    }
   ],
   "source": [
    "# 音声ファイルを文字起こし\n",
    "if len(transcribe.list_transcription_jobs(JobNameContains=transcribe_job_name)['TranscriptionJobSummaries'])==1:\n",
    "    transcribe.delete_transcription_job(TranscriptionJobName=transcribe_job_name)\n",
    "    sleep(1)\n",
    "transcribe.start_transcription_job(\n",
    "    TranscriptionJobName=transcribe_job_name,\n",
    "    LanguageCode='ja-JP',\n",
    "    Media={\n",
    "        'MediaFileUri': input_s3uri\n",
    "    },\n",
    "    OutputBucketName=bucket,\n",
    "    OutputKey=output_key\n",
    ")"
   ]
  },
  {
   "cell_type": "code",
   "execution_count": 5,
   "metadata": {},
   "outputs": [
    {
     "name": "stdout",
     "output_type": "stream",
     "text": [
      "...............\n",
      "COMPLETED!\n"
     ]
    }
   ],
   "source": [
    "while True:\n",
    "    status = transcribe.list_transcription_jobs(JobNameContains=transcribe_job_name)['TranscriptionJobSummaries'][0]['TranscriptionJobStatus']\n",
    "    if status == 'COMPLETED':\n",
    "        print('.')\n",
    "        print('COMPLETED!')\n",
    "        break\n",
    "    elif status == 'FAILED':\n",
    "        print('.')\n",
    "        print('FAILED')\n",
    "        break\n",
    "    else:\n",
    "        print('.',end='')\n",
    "        sleep(1)"
   ]
  },
  {
   "cell_type": "code",
   "execution_count": 6,
   "metadata": {},
   "outputs": [],
   "source": [
    "s3.download_file(bucket,output_key,'sample.json')"
   ]
  },
  {
   "cell_type": "code",
   "execution_count": 7,
   "metadata": {},
   "outputs": [
    {
     "name": "stdout",
     "output_type": "stream",
     "text": [
      "私は今日初めて自然言語処理サービスを利用して通話内容を可視化します\n"
     ]
    }
   ],
   "source": [
    "with open('sample.json','rt') as f:\n",
    "    transcription_json = json.loads(f.read())\n",
    "transcript_txt = transcription_json['results']['transcripts'][0]['transcript'].replace(' ','').replace('、','')\n",
    "print(transcript_txt)"
   ]
  },
  {
   "cell_type": "code",
   "execution_count": 8,
   "metadata": {},
   "outputs": [
    {
     "data": {
      "text/plain": [
       "{'Languages': [{'LanguageCode': 'ja', 'Score': 0.9989801645278931}],\n",
       " 'ResponseMetadata': {'RequestId': 'b153a6fc-e563-4e6e-9caf-5e1e3b0961d7',\n",
       "  'HTTPStatusCode': 200,\n",
       "  'HTTPHeaders': {'x-amzn-requestid': 'b153a6fc-e563-4e6e-9caf-5e1e3b0961d7',\n",
       "   'content-type': 'application/x-amz-json-1.1',\n",
       "   'content-length': '64',\n",
       "   'date': 'Tue, 27 Oct 2020 08:33:39 GMT'},\n",
       "  'RetryAttempts': 0}}"
      ]
     },
     "execution_count": 8,
     "metadata": {},
     "output_type": "execute_result"
    }
   ],
   "source": [
    "comprehend.detect_dominant_language(Text = transcript_txt)"
   ]
  },
  {
   "cell_type": "code",
   "execution_count": 9,
   "metadata": {},
   "outputs": [
    {
     "data": {
      "text/plain": [
       "{'Entities': [{'Score': 0.9712674617767334,\n",
       "   'Type': 'DATE',\n",
       "   'Text': '今日',\n",
       "   'BeginOffset': 2,\n",
       "   'EndOffset': 4}],\n",
       " 'ResponseMetadata': {'RequestId': '8453498a-a13d-4b51-8582-f3a131ea3275',\n",
       "  'HTTPStatusCode': 200,\n",
       "  'HTTPHeaders': {'x-amzn-requestid': '8453498a-a13d-4b51-8582-f3a131ea3275',\n",
       "   'content-type': 'application/x-amz-json-1.1',\n",
       "   'content-length': '103',\n",
       "   'date': 'Tue, 27 Oct 2020 08:33:40 GMT'},\n",
       "  'RetryAttempts': 0}}"
      ]
     },
     "execution_count": 9,
     "metadata": {},
     "output_type": "execute_result"
    }
   ],
   "source": [
    "comprehend.detect_entities(Text = transcript_txt, LanguageCode= 'ja')"
   ]
  },
  {
   "cell_type": "code",
   "execution_count": 10,
   "metadata": {},
   "outputs": [
    {
     "data": {
      "text/plain": [
       "{'KeyPhrases': [{'Score': 1.0, 'Text': '私', 'BeginOffset': 0, 'EndOffset': 1},\n",
       "  {'Score': 0.9996367692947388,\n",
       "   'Text': '今日',\n",
       "   'BeginOffset': 2,\n",
       "   'EndOffset': 4},\n",
       "  {'Score': 0.9994778037071228,\n",
       "   'Text': '自然言語処理サービス',\n",
       "   'BeginOffset': 7,\n",
       "   'EndOffset': 17},\n",
       "  {'Score': 1.0, 'Text': '通話内容', 'BeginOffset': 22, 'EndOffset': 26}],\n",
       " 'ResponseMetadata': {'RequestId': '93a7565c-000b-42c4-8eee-99ade6431ca8',\n",
       "  'HTTPStatusCode': 200,\n",
       "  'HTTPHeaders': {'x-amzn-requestid': '93a7565c-000b-42c4-8eee-99ade6431ca8',\n",
       "   'content-type': 'application/x-amz-json-1.1',\n",
       "   'content-length': '316',\n",
       "   'date': 'Tue, 27 Oct 2020 08:33:40 GMT'},\n",
       "  'RetryAttempts': 0}}"
      ]
     },
     "execution_count": 10,
     "metadata": {},
     "output_type": "execute_result"
    }
   ],
   "source": [
    "comprehend.detect_key_phrases(Text = transcript_txt, LanguageCode='ja')"
   ]
  },
  {
   "cell_type": "code",
   "execution_count": 11,
   "metadata": {},
   "outputs": [
    {
     "data": {
      "text/plain": [
       "{'Sentiment': 'NEUTRAL',\n",
       " 'SentimentScore': {'Positive': 0.00765804760158062,\n",
       "  'Negative': 6.318943633232266e-05,\n",
       "  'Neutral': 0.992274820804596,\n",
       "  'Mixed': 3.848530923278304e-06},\n",
       " 'ResponseMetadata': {'RequestId': '1a626db6-8413-49ba-a04c-920bf3d11080',\n",
       "  'HTTPStatusCode': 200,\n",
       "  'HTTPHeaders': {'x-amzn-requestid': '1a626db6-8413-49ba-a04c-920bf3d11080',\n",
       "   'content-type': 'application/x-amz-json-1.1',\n",
       "   'content-length': '162',\n",
       "   'date': 'Tue, 27 Oct 2020 08:33:40 GMT'},\n",
       "  'RetryAttempts': 0}}"
      ]
     },
     "execution_count": 11,
     "metadata": {},
     "output_type": "execute_result"
    }
   ],
   "source": [
    "comprehend.detect_sentiment(Text = transcript_txt, LanguageCode = 'ja')"
   ]
  },
  {
   "cell_type": "code",
   "execution_count": 12,
   "metadata": {},
   "outputs": [
    {
     "data": {
      "text/plain": [
       "'私 は 今日 初めて 自然 言語 処理 サービス を 利用 し て 通話 内容 を 可視 化 し、 ます'"
      ]
     },
     "execution_count": 12,
     "metadata": {},
     "output_type": "execute_result"
    }
   ],
   "source": [
    "transcription_json['results']['transcripts'][0]['transcript']"
   ]
  },
  {
   "cell_type": "code",
   "execution_count": null,
   "metadata": {},
   "outputs": [],
   "source": []
  }
 ],
 "metadata": {
  "kernelspec": {
   "display_name": "conda_python3",
   "language": "python",
   "name": "conda_python3"
  },
  "language_info": {
   "codemirror_mode": {
    "name": "ipython",
    "version": 3
   },
   "file_extension": ".py",
   "mimetype": "text/x-python",
   "name": "python",
   "nbconvert_exporter": "python",
   "pygments_lexer": "ipython3",
   "version": "3.6.10"
  }
 },
 "nbformat": 4,
 "nbformat_minor": 4
}
