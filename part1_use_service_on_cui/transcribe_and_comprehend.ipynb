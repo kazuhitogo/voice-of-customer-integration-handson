{
 "cells": [
  {
   "cell_type": "markdown",
   "metadata": {},
   "source": [
    "# Amazon Transcribe と Amazon Comprehend を boto3 で使用\n",
    "本ノートブックでは、AWS SDK for Python boto3 を用いて、下記操作を行います。\n",
    "\n",
    "1. 音声ファイル(sample.mp3) を Amazon Transcribe の start_transcription_job API を用いて、文字起こしジョブを起動\n",
    "2. 1 で作成した文字起こし結果に対して、Amazon Comprehend で解析を行います。\n",
    "  1. 言語検出(detect_dominant_language)\n",
    "  2. エンティティ認識(detect_entities)\n",
    "  3. キーフレーズ抽出(detect_key_phrases)\n",
    "  4. 感情分析(detect_sentiment)\n",
    "\n",
    "本ノートブックのハンズオンは各セルを全て実行するだけで完了できます。\n",
    "\n",
    "---\n",
    "\n",
    "## Jupyter Notebook を使用したことが無い方\n",
    "\n",
    "* 各セルに Python のコードが書かれております。Shift + Enter キーでそのコードを実行することができます。\n",
    "* メニューの Cell から Run Cells を実行してもよいです。",
    "---\n",
    "最初に使用するライブラリを読み込みます\n"
   ]
  },
  {
   "cell_type": "code",
   "execution_count": null,
   "metadata": {},
   "outputs": [],
   "source": [
    "# 使用するライブラリの読み込み\n",
    "import boto3,sagemaker,json\n",
    "from time import sleep"
   ]
  },
  {
   "cell_type": "markdown",
   "metadata": {},
   "source": [
    "* AWS SDK for Python で AWS のサービスを扱うには、サービスごとにクライアントを生成し、そのクライアントが持つメソッドを実行していきます\n",
    "* 本ノートブックでは、Amazon Transcribe, Amazon Comprehend, S3 の3つを使用するため、それらのクライアントを生成します"
   ]
  },
  {
   "cell_type": "code",
   "execution_count": null,
   "metadata": {},
   "outputs": [],
   "source": [
    "# AWS サービス の API を実行するためのクライアントを生成\n",
    "transcribe = boto3.client('transcribe')\n",
    "comprehend = boto3.client('comprehend')\n",
    "s3 = boto3.client('s3')"
   ]
  },
  {
   "cell_type": "markdown",
   "metadata": {},
   "source": [
    "# Amazon Transcribe"
   ]
  },
  {
   "cell_type": "markdown",
   "metadata": {},
   "source": [
    "* Amazon Transcribe で文字起こしするには、音声ファイルを S3 というストレージサービスにアップロードする必要があります\n",
    "* S3 クライアントを利用して sample.mp3 ファイルを S3 にアップロードします\n",
    "* このセルを実行したあと、ぜひ AWS マネジメントコンソールにて、S3 にアップロードされているかをご確認ください"
   ]
  },
  {
   "cell_type": "code",
   "execution_count": null,
   "metadata": {},
   "outputs": [],
   "source": [
    "# 音声ファイル (sample.mp3) を s3 にアップロード\n",
    "bucket = sagemaker.session.Session().default_bucket()\n",
    "mp3file = 'sample.mp3'\n",
    "input_key_prefix = 'transcribe/input/'\n",
    "input_key = input_key_prefix+mp3file\n",
    "s3.upload_file(mp3file,bucket,input_key)\n",
    "input_s3uri = 's3://'+bucket+'/' + input_key\n",
    "\n",
    "\n",
    "transcribe_job_name = 'sample'\n",
    "output_key = 'transcribe/output/'+transcribe_job_name + '.json'"
   ]
  },
  {
   "cell_type": "markdown",
   "metadata": {},
   "source": [
    "* Amazon Transcirbe の文字起こしジョブを開始します\n",
    "* 必死入力項目は以下3つです\n",
    "    * TranscriptionJobName\n",
    "    * LanguageCode\n",
    "    * Media\n",
    "* OutputBucketName/OutputKey については必須ではないですが、指定しないと Amazon Transcribe サービスが保有する S3 バケットに出力され、15 分間で揮発する署名付き URL からしかダウンロードできないため、明示的に指定しております\n",
    "\n",
    "詳しくは[こちら](https://boto3.amazonaws.com/v1/documentation/api/latest/reference/services/transcribe.html#TranscribeService.Client.start_transcription_job)をご参照ください。\n",
    "\n",
    "---\n",
    "\n",
    "前処理として、ジョブ名が sample という文字起こしジョブがあるかをチェックし、存在したら削除する、という処理が入っています。これは、同一のジョブ名を複数起動できないため、同じパラメータで複数回実行できないのを回避するためです。"
   ]
  },
  {
   "cell_type": "code",
   "execution_count": null,
   "metadata": {},
   "outputs": [],
   "source": [
    "# 音声ファイルを文字起こし\n",
    "if len(transcribe.list_transcription_jobs(JobNameContains=transcribe_job_name)['TranscriptionJobSummaries'])==1:\n",
    "    transcribe.delete_transcription_job(TranscriptionJobName=transcribe_job_name)\n",
    "    sleep(1)\n",
    "transcribe.start_transcription_job(\n",
    "    TranscriptionJobName=transcribe_job_name,\n",
    "    LanguageCode='ja-JP',\n",
    "    Media={\n",
    "        'MediaFileUri': input_s3uri\n",
    "    },\n",
    "    OutputBucketName=bucket,\n",
    "    OutputKey=output_key\n",
    ")"
   ]
  },
  {
   "cell_type": "markdown",
   "metadata": {},
   "source": [
    "start_transcribe_job は非同期処理ですので、上のセルの実行が完了した段階では処理が完了しているとは限りません。list_transcription_jobs から 先程実行した transcription job の status を 1 秒おきに取得し、完了を待ちます"
   ]
  },
  {
   "cell_type": "code",
   "execution_count": null,
   "metadata": {},
   "outputs": [],
   "source": [
    "while True:\n",
    "    status = transcribe.list_transcription_jobs(JobNameContains=transcribe_job_name)['TranscriptionJobSummaries'][0]['TranscriptionJobStatus']\n",
    "    if status == 'COMPLETED':\n",
    "        print('.')\n",
    "        print('COMPLETED!')\n",
    "        break\n",
    "    elif status == 'FAILED':\n",
    "        print('.')\n",
    "        print('FAILED')\n",
    "        break\n",
    "    else:\n",
    "        print('.',end='')\n",
    "        sleep(1)"
   ]
  },
  {
   "cell_type": "markdown",
   "metadata": {},
   "source": [
    "文字起こし結果は、S3 の中に {ジョブ名}.json として格納されますので、ノートブックインスタンスに S3 からダウンロードしてきます。"
   ]
  },
  {
   "cell_type": "code",
   "execution_count": null,
   "metadata": {},
   "outputs": [],
   "source": [
    "s3.download_file(bucket,output_key, transcribe_job_name+'.json')"
   ]
  },
  {
   "cell_type": "markdown",
   "metadata": {},
   "source": [
    "文字起こし結果を確認します。下のセルを実行すると文字起こし結果を確認することができます。"
   ]
  },
  {
   "cell_type": "code",
   "execution_count": null,
   "metadata": {},
   "outputs": [],
   "source": [
    "with open('sample.json','rt') as f:\n",
    "    transcription_json = json.loads(f.read())\n",
    "transcript_txt = transcription_json['results']['transcripts'][0]['transcript'].replace(' ','').replace('、','')\n",
    "print('文字起こし結果: '+ transcript_txt)"
   ]
  },
  {
   "cell_type": "markdown",
   "metadata": {},
   "source": [
    "# Amazon Comprehend\n",
    "文字起こしの結果を分析していきます。どの API も分析したいテキストを引数に入れて call します"
   ]
  },
  {
   "cell_type": "markdown",
   "metadata": {},
   "source": [
    "言語検出は detect_dominant_language で実行します。日本語であることが確認取れます。\n",
    "詳細は[こちら](https://boto3.amazonaws.com/v1/documentation/api/latest/reference/services/comprehend.html#Comprehend.Client.detect_dominant_language)をご参照ください"
   ]
  },
  {
   "cell_type": "code",
   "execution_count": null,
   "metadata": {},
   "outputs": [],
   "source": [
    "comprehend.detect_dominant_language(Text = transcript_txt)"
   ]
  },
  {
   "cell_type": "markdown",
   "metadata": {},
   "source": [
    "エンティティ認識は detect_entities で実行します。以降の API は言語を指定する必要があります。\n",
    "詳細は[こちら](https://boto3.amazonaws.com/v1/documentation/api/latest/reference/services/comprehend.html#Comprehend.Client.detect_entities)をご参照ください。"
   ]
  },
  {
   "cell_type": "code",
   "execution_count": null,
   "metadata": {},
   "outputs": [],
   "source": [
    "comprehend.detect_entities(Text = transcript_txt, LanguageCode= 'ja')"
   ]
  },
  {
   "cell_type": "markdown",
   "metadata": {},
   "source": [
    "キーフレーズ抽出は detect_key_phrases で実行します。詳細は[こちら](https://boto3.amazonaws.com/v1/documentation/api/latest/reference/services/comprehend.html#Comprehend.Client.detect_key_phrases)をご参照ください"
   ]
  },
  {
   "cell_type": "code",
   "execution_count": null,
   "metadata": {},
   "outputs": [],
   "source": [
    "comprehend.detect_key_phrases(Text = transcript_txt, LanguageCode='ja')"
   ]
  },
  {
   "cell_type": "markdown",
   "metadata": {},
   "source": [
    "感情分析は detect_sentiment で実行します。詳細は[こちら](https://boto3.amazonaws.com/v1/documentation/api/latest/reference/services/comprehend.html#Comprehend.Client.detect_sentiment)をご参照ください"
   ]
  },
  {
   "cell_type": "code",
   "execution_count": null,
   "metadata": {},
   "outputs": [],
   "source": [
    "comprehend.detect_sentiment(Text = transcript_txt, LanguageCode = 'ja')"
   ]
  },
  {
   "cell_type": "code",
   "execution_count": null,
   "metadata": {},
   "outputs": [],
   "source": []
  }
 ],
 "metadata": {
  "kernelspec": {
   "display_name": "conda_python3",
   "language": "python",
   "name": "conda_python3"
  },
  "language_info": {
   "codemirror_mode": {
    "name": "ipython",
    "version": 3
   },
   "file_extension": ".py",
   "mimetype": "text/x-python",
   "name": "python",
   "nbconvert_exporter": "python",
   "pygments_lexer": "ipython3",
   "version": "3.6.10"
  }
 },
 "nbformat": 4,
 "nbformat_minor": 4
}
